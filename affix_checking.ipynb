{
 "cells": [
  {
   "cell_type": "code",
   "execution_count": 1,
   "id": "01fb5208",
   "metadata": {},
   "outputs": [],
   "source": [
    "import pandas as pd\n",
    "import matplotlib.pyplot as plt\n",
    "import numpy as np"
   ]
  },
  {
   "cell_type": "code",
   "execution_count": 109,
   "id": "5379c7b4",
   "metadata": {},
   "outputs": [],
   "source": [
    "df_affixes = pd.read_csv(\"MagicSuffix.txt\", delimiter=\"\\t\")\n",
    "\n",
    "splits = [\n",
    "    [\"cast1\", \"cast2\", \"cast3\"],\n",
    "    [\"balance1\", \"balance2\", \"balance3\"],\n",
    "    [\"swing1\", \"swing2\", \"swing3\"],\n",
    "    [\"move1\", \"move2\"]\n",
    "]\n",
    "replaces = [\"fcr\", \"fhr\", \"ias\", \"frw\"]\n",
    "\n",
    "mod1code = df_affixes\n",
    "for replacer, replacees in zip(replaces, splits):\n",
    "    for rep in replacees:\n",
    "        df_affixes.mod1code = df_affixes.mod1code.str.replace(rep, replacer)\n",
    "\n",
    "    "
   ]
  },
  {
   "cell_type": "code",
   "execution_count": 110,
   "id": "4999786d",
   "metadata": {
    "scrolled": false
   },
   "outputs": [
    {
     "name": "stdout",
     "output_type": "stream",
     "text": [
      "Plotting for str\n",
      "Plotting for dex\n",
      "Plotting for enr\n",
      "Plotting for vit\n",
      "Plotting for str_perc\n",
      "Plotting for dex_perc\n",
      "Plotting for enr_perc\n",
      "Plotting for vit_perc\n",
      "Plotting for ias\n",
      "Plotting for block\n",
      "Plotting for fhr\n",
      "Plotting for regen\n",
      "Plotting for regen-mana\n",
      "Plotting for indestruct\n",
      "Plotting for aura\n",
      "Plotting for gethit-skill\n",
      "Plotting for ease\n",
      "Plotting for gold_perc\n",
      "Plotting for mag_perc\n",
      "Plotting for abs-fire\n",
      "Plotting for abs-cold\n",
      "Plotting for abs-ltng\n",
      "Plotting for extra-fire\n",
      "Plotting for extra-ltng\n",
      "Plotting for extra-cold\n",
      "Plotting for extra-pois\n",
      "Plotting for extra-mag2\n",
      "Plotting for extra-wind\n",
      "Plotting for allskills\n",
      "Plotting for oskill\n",
      "Plotting for thorns_per_lvl\n",
      "Plotting for fcr\n",
      "Plotting for nofreeze\n",
      "Plotting for all-stats\n",
      "Plotting for deadly\n",
      "Plotting for lifesteal\n",
      "Plotting for manasteal\n",
      "Plotting for heal-kill\n",
      "Plotting for mana-kill\n",
      "Plotting for crush\n",
      "Plotting for hit-skill\n",
      "Plotting for gold_perc_per_lvl\n",
      "Plotting for mag_perc_per_lvl\n",
      "Plotting for res-curse-len\n",
      "Plotting for item_pierce\n"
     ]
    }
   ],
   "source": [
    "for stat in df_affixes.mod1code.unique():\n",
    "    if isinstance(stat, str) and not \"skilltab\" in stat:\n",
    "        nice_stat = stat.replace(\"%\", \"_perc\").replace(\"/\", \"_per_\")\n",
    "        print(\"Plotting for {:s}\".format(nice_stat))\n",
    "        df_smol = df_affixes[df_affixes.mod1code == stat]\n",
    "\n",
    "        all_types = []\n",
    "        for idx, itt in enumerate([df_smol.itype1, df_smol.itype2, df_smol.itype3, df_smol.itype4, df_smol.itype5, df_smol.itype6, df_smol.itype7]):\n",
    "            for ittt in itt.unique():\n",
    "                if isinstance(ittt, str) and ittt not in all_types:\n",
    "                    all_types.append(ittt)\n",
    "\n",
    "        fig, axs = plt.subplots(4, 5, figsize=(17, 13))\n",
    "        for ii, it in enumerate(all_types):\n",
    "            for _, row in df_smol.iterrows():\n",
    "                if it in [row.itype1, row.itype2, row.itype3, row.itype4, row.itype5, row.itype6, row.itype7]:\n",
    "                    # print(it, row.Name, row.level, row.maxlevel, row.mod1min, row.mod1max)\n",
    "                    maxl = 99 if np.isnan(row.maxlevel) else row.maxlevel\n",
    "                    rectx = np.asarray([row.level, maxl, maxl, row.level]).astype(float)\n",
    "                    recty = np.asarray([row.mod1min, row.mod1min, row.mod1max+1, row.mod1max+1]).astype(float) - 0.5\n",
    "                    col = (1, 1, 0, 1) if row.rare == 1 else (0.4, 0.4, 1., 1.)\n",
    "                    axs.flatten()[ii].fill(rectx, recty, alpha=0.5, facecolor=col, edgecolor='k')\n",
    "            title = it\n",
    "            axs.flatten()[ii].set_title(title, loc='left')\n",
    "            axs.flatten()[ii].set_xlim([1, 99])\n",
    "            if ii%5 == 0:\n",
    "                axs.flatten()[ii].set_ylabel(row.mod1code)\n",
    "            if ii>15:\n",
    "                axs.flatten()[ii].set_xlabel(\"item level\")\n",
    "        plt.suptitle(\"{:s} for item types, amount per ilvl\".format(nice_stat))\n",
    "        plt.savefig(\"Suffix_{:s}.png\".format(nice_stat))\n",
    "        plt.close('all')"
   ]
  },
  {
   "cell_type": "code",
   "execution_count": null,
   "id": "cbd437ad",
   "metadata": {},
   "outputs": [],
   "source": []
  }
 ],
 "metadata": {
  "kernelspec": {
   "display_name": "Python 3 (ipykernel)",
   "language": "python",
   "name": "python3"
  },
  "language_info": {
   "codemirror_mode": {
    "name": "ipython",
    "version": 3
   },
   "file_extension": ".py",
   "mimetype": "text/x-python",
   "name": "python",
   "nbconvert_exporter": "python",
   "pygments_lexer": "ipython3",
   "version": "3.11.4"
  }
 },
 "nbformat": 4,
 "nbformat_minor": 5
}
